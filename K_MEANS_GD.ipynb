{
 "cells": [
  {
   "cell_type": "code",
   "execution_count": 1,
   "id": "a6f7525f",
   "metadata": {},
   "outputs": [],
   "source": [
    "import numpy as np\n",
    "from numpy import linalg as LA\n",
    "import csv\n",
    "import matplotlib.pyplot as plt"
   ]
  },
  {
   "cell_type": "code",
   "execution_count": 2,
   "id": "d80b5a30",
   "metadata": {},
   "outputs": [],
   "source": [
    "### \"X\" is Data\n",
    "### \"k\" is hyper parameter\n",
    "### \"tau\" is Iteration Rate\n",
    "### \"mu\" shape (axis=0 is the dimension of data_X, axis=1 is the group_k)\n",
    "\n",
    "def K_MEAN(X, k, tau, mu =\"\"):\n",
    "    f = plt.figure()\n",
    "    \n",
    "    d_number, n_number = X.shape\n",
    "    if not(mu):\n",
    "        mu = np.random.rand(d_number,k) * (np.amax(X, axis = 1)[:, None] - np.amin(X, axis = 1)[:, None])\n",
    "        + np.amin(X, axis = 1)[:, None]\n",
    "    mu = np.array(mu)\n",
    "    plt.plot(mu[0,:], mu[1,:], 'ko', markersize=3.5)\n",
    "    \n",
    "    y = np.random.randint(k, size = n_number)\n",
    "    y = y + 1\n",
    "    tau = 100\n",
    "    Loss = 0\n",
    "      \n",
    "    for t in range(tau):\n",
    "        yold = y\n",
    "        LossOld = Loss\n",
    "        N = np.ones(k)\n",
    "        \n",
    "        ###Update y\n",
    "        ###Update Loss\n",
    "        LTLoss = np.empty([k , n_number])\n",
    "        for j in range(k):\n",
    "            #LTLoss[j, :] = LA.norm(X - mu[0:-1, j], axis = 0, ord=2)\n",
    "            stacker = np.zeros(n_number)\n",
    "            for d in range(d_number):\n",
    "                stacker += (X[d,:] - mu[d, j])**2\n",
    "            LTLoss[j, :] = stacker\n",
    "        Loss = np.sum(np.amin(LTLoss, axis = 0))\n",
    "        y = np.argmin(LTLoss, axis = 0) + 1\n",
    "        \n",
    "        ###Update mu    \n",
    "        for m in range(k):    \n",
    "            yBool = (y == (m+1))\n",
    "            yBoolNew = np.tile(yBool, (d_number, 1))\n",
    "            index = np.where(yBoolNew)\n",
    "            colmCount = int(X[index].size / d_number)\n",
    "            FilteredX = np.reshape(X[index], (d_number, colmCount))\n",
    "            \n",
    "            if FilteredX.size == 0:\n",
    "                ### New Initial \"mu\" if there is no element found for this group.\n",
    "                mu[:,m] = np.random.rand(d_number) * (np.amax(X, axis = 1) - np.amin(X, axis = 1))\n",
    "                + np.amin(X, axis = 1)\n",
    "            else:\n",
    "                ### Update \"mu\" if elements for this group are found.\n",
    "                dfilt_number, nfilt_number = FilteredX.shape\n",
    "                N[m] = nfilt_number\n",
    "                mu[:,m] = np.sum(FilteredX, axis = 1) / N[m]\n",
    "        \n",
    "        if (LossOld - Loss)*(LossOld - Loss) < 0.01:\n",
    "            ylist = np.arange(1,k+1)\n",
    "            if (all(e in y for e in ylist)):\n",
    "                print(\"break\")\n",
    "                break\n",
    "            \n",
    "    print(mu)\n",
    "    print(y)\n",
    "    for c in range(k):\n",
    "        colBool = (y == (c+1))\n",
    "        index = np.where(colBool)\n",
    "        plt.plot(X[0,:][index], X[1,:][index], 'o', markersize=3, label = str(c))\n",
    "    plt.plot(mu[0,:], mu[1,:], 'mo', markersize=3.5)\n",
    "    plt.legend()\n",
    "    return mu, y"
   ]
  },
  {
   "cell_type": "code",
   "execution_count": 3,
   "id": "76b71062",
   "metadata": {
    "scrolled": true
   },
   "outputs": [
    {
     "name": "stdout",
     "output_type": "stream",
     "text": [
      "break\n",
      "[[ 1.8375 11.38   33.    ]\n",
      " [21.9625  2.84   43.    ]]\n",
      "[1 1 1 1 1 1 1 1 2 2 2 2 2 3 3 3 3]\n"
     ]
    },
    {
     "data": {
      "text/plain": [
       "(array([[ 1.8375, 11.38  , 33.    ],\n",
       "        [21.9625,  2.84  , 43.    ]]),\n",
       " array([1, 1, 1, 1, 1, 1, 1, 1, 2, 2, 2, 2, 2, 3, 3, 3, 3], dtype=int64))"
      ]
     },
     "execution_count": 3,
     "metadata": {},
     "output_type": "execute_result"
    },
    {
     "data": {
      "image/png": "[encoded data removed]",
      "text/plain": [
       "<Figure size 432x288 with 1 Axes>"
      ]
     },
     "metadata": {
      "needs_background": "light"
     },
     "output_type": "display_data"
    }
   ],
   "source": [
    "xSample = np.array([[2.2,3.1,1.3,2.4,1,2,1.2,1.5,11,12,11.1,12.1,10.7,31,32,35,34],\n",
    "                    [24,23,25,18,21,22,21.2,21.5,1,2,5,4, 2.2, 41,42,45,44]])\n",
    "K_MEAN(xSample, 3, 100)"
   ]
  }
 ],
 "metadata": {
  "kernelspec": {
   "display_name": "lcperceptron",
   "language": "python",
   "name": "lcperceptron"
  },
  "language_info": {
   "codemirror_mode": {
    "name": "ipython",
    "version": 3
   },
   "file_extension": ".py",
   "mimetype": "text/x-python",
   "name": "python",
   "nbconvert_exporter": "python",
   "pygments_lexer": "ipython3",
   "version": "3.10.2"
  }
 },
 "nbformat": 4,
 "nbformat_minor": 5
}
